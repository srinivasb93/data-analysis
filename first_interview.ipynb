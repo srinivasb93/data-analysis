{
  "nbformat": 4,
  "nbformat_minor": 0,
  "metadata": {
    "colab": {
      "name": "first interview.ipynb",
      "provenance": [],
      "authorship_tag": "ABX9TyNShDK8Kw8rI4Gl0+td2HPS",
      "include_colab_link": true
    },
    "kernelspec": {
      "name": "python3",
      "display_name": "Python 3"
    },
    "language_info": {
      "name": "python"
    }
  },
  "cells": [
    {
      "cell_type": "markdown",
      "metadata": {
        "id": "view-in-github",
        "colab_type": "text"
      },
      "source": [
        "<a href=\"https://colab.research.google.com/github/srinivasb93/data-analysis/blob/main/first_interview.ipynb\" target=\"_parent\"><img src=\"https://colab.research.google.com/assets/colab-badge.svg\" alt=\"Open In Colab\"/></a>"
      ]
    },
    {
      "cell_type": "code",
      "metadata": {
        "colab": {
          "base_uri": "https://localhost:8080/"
        },
        "id": "mL_1ZDTkGR3y",
        "outputId": "60ee54a1-5144-46a5-d7b4-2c5416b1dc5f"
      },
      "source": [
        "str1 = 'abba'\n",
        "str2 = str1[::-1]\n",
        "\n",
        "if str1 == str2:\n",
        "  print('Its a palindrome')\n",
        "else:\n",
        "  print('Its not a palindrome')"
      ],
      "execution_count": 1,
      "outputs": [
        {
          "output_type": "stream",
          "name": "stdout",
          "text": [
            "Its a palindrome\n"
          ]
        }
      ]
    },
    {
      "cell_type": "code",
      "metadata": {
        "colab": {
          "base_uri": "https://localhost:8080/"
        },
        "id": "hSEb56O7HMO0",
        "outputId": "52f29b9c-d371-4c0d-8ce2-3cc5a5c56c8e"
      },
      "source": [
        "s1='good morning'\n",
        "s2 = ''\n",
        "vowels = ['a','e','i','o','u']\n",
        "\n",
        "for idx,ch in enumerate(s1[:]):\n",
        "  if ch in vowels:\n",
        "    pass\n",
        "  else:\n",
        "    s2 += ch\n",
        "\n",
        "print(s2)"
      ],
      "execution_count": 5,
      "outputs": [
        {
          "output_type": "stream",
          "name": "stdout",
          "text": [
            "gd mrnng\n"
          ]
        }
      ]
    },
    {
      "cell_type": "code",
      "metadata": {
        "id": "6QSyeP-eI5m1"
      },
      "source": [
        ""
      ],
      "execution_count": null,
      "outputs": []
    },
    {
      "cell_type": "code",
      "metadata": {
        "colab": {
          "base_uri": "https://localhost:8080/"
        },
        "id": "p6PEotepI5vs",
        "outputId": "b25320c4-2dd5-47a7-bc70-0c9bc2c67fa5"
      },
      "source": [
        "d1 = {'x':10,'y':20}\n",
        "\n",
        "d2 = {v:k for k,v in d1.items()}\n",
        "\n",
        "print(d2)"
      ],
      "execution_count": 10,
      "outputs": [
        {
          "output_type": "stream",
          "name": "stdout",
          "text": [
            "{10: 'x', 20: 'y'}\n"
          ]
        }
      ]
    },
    {
      "cell_type": "code",
      "metadata": {
        "colab": {
          "base_uri": "https://localhost:8080/"
        },
        "id": "kGkyFR43JvZR",
        "outputId": "400d21ab-943d-402b-c440-a0ab9d0bec9e"
      },
      "source": [
        "d1 = {'x':10,'y':20}\n",
        "\n",
        "print(d1.get('z'))"
      ],
      "execution_count": 11,
      "outputs": [
        {
          "output_type": "stream",
          "name": "stdout",
          "text": [
            "None\n"
          ]
        }
      ]
    },
    {
      "cell_type": "code",
      "metadata": {
        "colab": {
          "base_uri": "https://localhost:8080/"
        },
        "id": "jlHzYfBhKEOh",
        "outputId": "6a61d366-0f0f-4a48-fb37-4645caca31d3"
      },
      "source": [
        "l1 = [1,4,2,5,3,6,3,2]\n",
        "\n",
        "s1 = set(l1)\n",
        "\n",
        "d1 = {}\n",
        "\n",
        "for val in s1:\n",
        "  d1[val] = l1.count(val)\n",
        "\n",
        "print(d1)"
      ],
      "execution_count": 13,
      "outputs": [
        {
          "output_type": "stream",
          "name": "stdout",
          "text": [
            "{1: 1, 2: 2, 3: 2, 4: 1, 5: 1, 6: 1}\n"
          ]
        }
      ]
    },
    {
      "cell_type": "code",
      "metadata": {
        "colab": {
          "base_uri": "https://localhost:8080/"
        },
        "id": "cvCip0-ULLsS",
        "outputId": "d05326df-1534-4490-a057-f57762a7ea0d"
      },
      "source": [
        "l1 = [1,2,3,4,5]\n",
        "list_len = len(l1)\n",
        "\n",
        "n = int(input('Enter Index :'))\n",
        "while n > 0: \n",
        "  if n > list_len:\n",
        "    n = int(input('Enter Index :'))\n",
        "  else:\n",
        "    l2 = l1[0:n]\n",
        "    l3 = l1[n:]\n",
        "    l1 = l3 + l2\n",
        "    print(l1)\n",
        "    n = int(input('Enter Index :'))\n",
        "    \n",
        "  #[3,4,5,1,2]"
      ],
      "execution_count": 23,
      "outputs": [
        {
          "name": "stdout",
          "output_type": "stream",
          "text": [
            "Enter Index :2\n",
            "[3, 4, 5, 1, 2]\n",
            "Enter Index :1\n",
            "[4, 5, 1, 2, 3]\n",
            "Enter Index :-5\n"
          ]
        }
      ]
    },
    {
      "cell_type": "code",
      "metadata": {
        "colab": {
          "base_uri": "https://localhost:8080/"
        },
        "id": "jaOS6NubOiw1",
        "outputId": "4a672709-3341-4453-eb2b-da97dc68d3bb"
      },
      "source": [
        "l1 = [2,4,-1, 0, 1,2,0, 7,2]\n",
        "\n",
        "l2 = [val for val in l1 if val!=0]\n",
        "l3 = [val for val in l1 if val==0]\n",
        "\n",
        "l1 = l2 + l3\n",
        "\n",
        "print(l1)\n",
        "\n",
        "# ouput ; [2,4,-1,1,2,7,2,0,0]"
      ],
      "execution_count": 29,
      "outputs": [
        {
          "output_type": "stream",
          "name": "stdout",
          "text": [
            "[2, 4, -1, 1, 2, 7, 2, 0, 0]\n"
          ]
        }
      ]
    },
    {
      "cell_type": "code",
      "metadata": {
        "colab": {
          "base_uri": "https://localhost:8080/"
        },
        "id": "8OhtJBGTQdoW",
        "outputId": "25820c8b-4554-4251-ac15-56510c33e90e"
      },
      "source": [
        "s1='paradox'\n",
        "alpha = 'abcdefghijklmnopqrstuvwxyz'\n",
        "s2 = s1[n:]\n",
        "n = 3\n",
        "s3 = s1[:n]\n",
        "s = ''\n",
        "\n",
        "for ch in s2:\n",
        "  idx = alpha.find(ch)+1\n",
        "  s += alpha[-idx]\n",
        "  \n",
        "print(s3 + s)\n"
      ],
      "execution_count": 38,
      "outputs": [
        {
          "output_type": "stream",
          "name": "stdout",
          "text": [
            "parzwlc\n"
          ]
        }
      ]
    }
  ]
}